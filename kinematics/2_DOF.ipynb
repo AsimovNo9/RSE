{
 "cells": [
  {
   "cell_type": "code",
   "execution_count": 1,
   "metadata": {},
   "outputs": [],
   "source": [
    "import matplotlib.pyplot as plt\n",
    "import numpy as np"
   ]
  },
  {
   "cell_type": "code",
   "execution_count": 9,
   "metadata": {},
   "outputs": [],
   "source": [
    "#Define a function which takes in arm configuration as input and gives the end effector position in cartesian coordinates.\n",
    "\n",
    "def compute_arm_config(link1_lenght, link2_lenght, angle_1, angle_2):\n",
    "    \"\"\"This function gives the forward kinematics of a 2 DOF manipulator with two rotary motors in 2d cartesian space.\n",
    "\n",
    "    Args:\n",
    "        link1_lenght (float):The lenght of the first link\n",
    "        link2_lenght (float): The lenght of the second link\n",
    "        angle_1 (float): The initial angle from the start of the first link\n",
    "        angle_2 (float): The second angle from start of the second link\n",
    "\n",
    "    Returns:\n",
    "        Dictionary: Key of Joints 1 and 2 links to the cartesian coordinates of the ends of joints 1 and 2 respectively\n",
    "    \"\"\"\n",
    "    j1_x = link1_lenght*np.cos(angle_1)\n",
    "    j1_y = link1_lenght*np.sin(angle_1)\n",
    "\n",
    "    j2_x = j1_x + link2_lenght*np.cos(angle_1+angle_2)\n",
    "    j2_y = j1_y + link2_lenght*np.sin(angle_1+angle_2)\n",
    "\n",
    "    cords = {\"j1\": (j1_x, j1_y), \"j2\": (j2_x, j2_y)}\n",
    "    return cords"
   ]
  },
  {
   "cell_type": "code",
   "execution_count": 23,
   "metadata": {},
   "outputs": [],
   "source": [
    "# Defining values to use experimentally\n",
    "\n",
    "link1 = np.random.random()*20 + 30\n",
    "link2 = np.random.random()*20 + 30\n",
    "a_1 = np.random.random()*180\n",
    "a_2 = np.random.random()*180"
   ]
  },
  {
   "cell_type": "code",
   "execution_count": 17,
   "metadata": {},
   "outputs": [],
   "source": [
    "def plot_2DOF_robot(link1_lenght, link2_lenght, angle_1, angle_2):\n",
    "    \"\"\"Function to plot the 2 link, 2DOF robot arm, in 2D cartesian Space\n",
    "\n",
    "    Args:\n",
    "        link1_lenght (float):The lenght of the first link\n",
    "        link2_lenght (float): The lenght of the second link\n",
    "        angle_1 (float): The initial angle from the start of the first link\n",
    "        angle_2 (float): The second angle from start of the second link\n",
    "\n",
    "    Returns:\n",
    "        image(matplot plot): Plot of the the 2DOF robot arm\n",
    "    \"\"\"\n",
    "\n",
    "    coordinates = compute_arm_config(link1_lenght, link2_lenght, angle_1, angle_2)\n",
    "    \n",
    "    joint_1 = coordinates[\"j1\"]\n",
    "    joint_2 = coordinates[\"j2\"]\n",
    "\n",
    "    base_x = 0\n",
    "    base_y = 0\n",
    "    plt.figure()\n",
    "    # Plotting the points on the graph\n",
    "    plt.plot([base_x, joint_1[0], joint_2[0]], [base_y, joint_2[1], joint_2[1]])\n",
    "    # PLotting the base point as a blue quare marker\n",
    "    plt.plot(base_x, base_y, 'bs', markersize=15, label='Base')\n",
    "    # Plotting the first joint as a redd circle \n",
    "    plt.plot(joint_1[0], joint_1[1], 'ro', markersize=15, label='Joint_1')\n",
    "    # Plotting the second joint as a green triangle\n",
    "    plt.plot(joint_2[0], joint_2[1], 'g^', markersize=15, label='Joint_2')\n",
    "\n",
    "    plt.xlim(-100, 100)\n",
    "    plt.ylim(-100, 100)\n",
    "    plt.legend(fontsize=15)\n",
    "\n",
    "    return plt.show()\n"
   ]
  },
  {
   "cell_type": "code",
   "execution_count": 14,
   "metadata": {},
   "outputs": [
    {
     "name": "stdout",
     "output_type": "stream",
     "text": [
      "-13.163653594261762\n"
     ]
    }
   ],
   "source": [
    "coords = compute_arm_config(link1, link2, a_1, a_2)\n",
    "jam = coords['j1']\n",
    "print(jam[0])"
   ]
  },
  {
   "cell_type": "code",
   "execution_count": 24,
   "metadata": {},
   "outputs": [
    {
     "data": {
      "image/png": "[encoded data removed]",
      "text/plain": [
       "<Figure size 432x288 with 1 Axes>"
      ]
     },
     "metadata": {
      "needs_background": "light"
     },
     "output_type": "display_data"
    }
   ],
   "source": [
    "plot_2DOF_robot(link1, link2, a_1, a_2)"
   ]
  }
 ],
 "metadata": {
  "kernelspec": {
   "display_name": "Python 3.9.13 64-bit (windows store)",
   "language": "python",
   "name": "python3"
  },
  "language_info": {
   "codemirror_mode": {
    "name": "ipython",
    "version": 3
   },
   "file_extension": ".py",
   "mimetype": "text/x-python",
   "name": "python",
   "nbconvert_exporter": "python",
   "pygments_lexer": "ipython3",
   "version": "3.9.13"
  },
  "orig_nbformat": 4,
  "vscode": {
   "interpreter": {
    "hash": "aacf6b3dc8e6c41ea35796be81b7b95d0c692d3df2fb00cb2da8ca797cba9426"
   }
  }
 },
 "nbformat": 4,
 "nbformat_minor": 2
}
